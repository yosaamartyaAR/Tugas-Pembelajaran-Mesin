{
  "nbformat": 4,
  "nbformat_minor": 0,
  "metadata": {
    "colab": {
      "name": "Week4_Data_Visual",
      "provenance": [],
      "authorship_tag": "ABX9TyMnkOjGvphroMyK7sYEbh4h",
      "include_colab_link": true
    },
    "kernelspec": {
      "name": "python3",
      "display_name": "Python 3"
    },
    "language_info": {
      "name": "python"
    }
  },
  "cells": [
    {
      "cell_type": "markdown",
      "metadata": {
        "id": "view-in-github",
        "colab_type": "text"
      },
      "source": [
        "<a href=\"https://colab.research.google.com/github/yosaamartyaAR/Tugas-Pembelajaran-Mesin/blob/main/Week4_Data_Visual.ipynb\" target=\"_parent\"><img src=\"https://colab.research.google.com/assets/colab-badge.svg\" alt=\"Open In Colab\"/></a>"
      ]
    },
    {
      "cell_type": "code",
      "metadata": {
        "id": "dEJBdYi9RBrj"
      },
      "source": [
        "import numpy as np\n",
        "import pandas as pd\n",
        "import matplotlib.pyplot as plt"
      ],
      "execution_count": null,
      "outputs": []
    },
    {
      "cell_type": "code",
      "metadata": {
        "id": "BdWukg_yRwX4"
      },
      "source": [
        "steam = pd.read_csv('/content/AllSteamData.csv')\n",
        "steam"
      ],
      "execution_count": null,
      "outputs": []
    },
    {
      "cell_type": "code",
      "metadata": {
        "id": "07hsQxyqRwak"
      },
      "source": [
        "steam.head"
      ],
      "execution_count": null,
      "outputs": []
    },
    {
      "cell_type": "code",
      "metadata": {
        "id": "1_jb4CwpRwdF"
      },
      "source": [
        "plt.scatter(steam['Month'], steam['Peak Players'])"
      ],
      "execution_count": null,
      "outputs": []
    },
    {
      "cell_type": "code",
      "metadata": {
        "id": "EOBgVErkRwfd"
      },
      "source": [
        "steam.plot(x=\"Month\", y=\"Avg. Players\")"
      ],
      "execution_count": null,
      "outputs": []
    },
    {
      "cell_type": "code",
      "metadata": {
        "id": "zfNRMbLYRwiR"
      },
      "source": [
        "steam.plot(kind=\"bar\")\n",
        "#terlalu berat sehingga tidak bisa di jalankan"
      ],
      "execution_count": null,
      "outputs": []
    }
  ]
}