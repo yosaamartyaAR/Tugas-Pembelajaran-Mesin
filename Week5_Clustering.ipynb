{
  "nbformat": 4,
  "nbformat_minor": 0,
  "metadata": {
    "colab": {
      "name": "Week5_Clustering",
      "provenance": [],
      "authorship_tag": "ABX9TyPaV50BwWIbPZee2S5WXHX8",
      "include_colab_link": true
    },
    "kernelspec": {
      "name": "python3",
      "display_name": "Python 3"
    },
    "language_info": {
      "name": "python"
    }
  },
  "cells": [
    {
      "cell_type": "markdown",
      "metadata": {
        "id": "view-in-github",
        "colab_type": "text"
      },
      "source": [
        "<a href=\"https://colab.research.google.com/github/yosaamartyaAR/Tugas-Pembelajaran-Mesin/blob/main/Week5_Clustering.ipynb\" target=\"_parent\"><img src=\"https://colab.research.google.com/assets/colab-badge.svg\" alt=\"Open In Colab\"/></a>"
      ]
    },
    {
      "cell_type": "code",
      "metadata": {
        "id": "wpYISlhGSEf7"
      },
      "source": [
        "# Author: Peter Prettenhofer <peter.prettenhofer@gmail.com>\n",
        "#         Lars Buitinck\n",
        "# License: BSD 3 clause\n",
        "\n",
        "from sklearn.datasets import fetch_20newsgroups\n",
        "from sklearn.decomposition import TruncatedSVD\n",
        "from sklearn.feature_extraction.text import TfidfVectorizer\n",
        "from sklearn.feature_extraction.text import HashingVectorizer\n",
        "from sklearn.feature_extraction.text import TfidfTransformer\n",
        "from sklearn.pipeline import make_pipeline\n",
        "from sklearn.preprocessing import Normalizer\n",
        "from sklearn import metrics\n",
        "\n",
        "from sklearn.cluster import KMeans, MiniBatchKMeans\n",
        "\n",
        "import logging\n",
        "from optparse import OptionParser\n",
        "import sys\n",
        "from time import time\n",
        "\n",
        "import numpy as np"
      ],
      "execution_count": 1,
      "outputs": []
    },
    {
      "cell_type": "code",
      "metadata": {
        "id": "KZkmrLyySLAX"
      },
      "source": [
        "# Display progress logs on stdout\n",
        "logging.basicConfig(level=logging.INFO, format=\"%(asctime)s %(levelname)s %(message)s\")"
      ],
      "execution_count": 2,
      "outputs": []
    },
    {
      "cell_type": "code",
      "metadata": {
        "colab": {
          "base_uri": "https://localhost:8080/"
        },
        "id": "pGoDSi6WSLC0",
        "outputId": "b97534b3-dcf9-401b-e197-11b56f944527"
      },
      "source": [
        "# parse commandline arguments\n",
        "op = OptionParser()\n",
        "op.add_option(\n",
        "    \"--lsa\",\n",
        "    dest=\"n_components\",\n",
        "    type=\"int\",\n",
        "    help=\"Preprocess documents with latent semantic analysis.\",\n",
        ")\n",
        "op.add_option(\n",
        "    \"--no-minibatch\",\n",
        "    action=\"store_false\",\n",
        "    dest=\"minibatch\",\n",
        "    default=True,\n",
        "    help=\"Use ordinary k-means algorithm (in batch mode).\",\n",
        ")\n",
        "op.add_option(\n",
        "    \"--no-idf\",\n",
        "    action=\"store_false\",\n",
        "    dest=\"use_idf\",\n",
        "    default=True,\n",
        "    help=\"Disable Inverse Document Frequency feature weighting.\",\n",
        ")\n",
        "op.add_option(\n",
        "    \"--use-hashing\",\n",
        "    action=\"store_true\",\n",
        "    default=False,\n",
        "    help=\"Use a hashing feature vectorizer\",\n",
        ")\n",
        "op.add_option(\n",
        "    \"--n-features\",\n",
        "    type=int,\n",
        "    default=10000,\n",
        "    help=\"Maximum number of features (dimensions) to extract from text.\",\n",
        ")\n",
        "op.add_option(\n",
        "    \"--verbose\",\n",
        "    action=\"store_true\",\n",
        "    dest=\"verbose\",\n",
        "    default=False,\n",
        "    help=\"Print progress reports inside k-means algorithm.\",\n",
        ")"
      ],
      "execution_count": 3,
      "outputs": [
        {
          "output_type": "execute_result",
          "data": {
            "text/plain": [
              "<Option at 0x7f758e820e10: --verbose>"
            ]
          },
          "metadata": {},
          "execution_count": 3
        }
      ]
    },
    {
      "cell_type": "code",
      "metadata": {
        "colab": {
          "base_uri": "https://localhost:8080/"
        },
        "id": "6bMu616cSLFo",
        "outputId": "bfc68ad4-e42d-481c-a9b5-f46229e28384"
      },
      "source": [
        "print(__doc__)\n",
        "op.print_help()\n",
        "print()\n",
        "\n",
        "\n",
        "def is_interactive():\n",
        "    return not hasattr(sys.modules[\"__main__\"], \"__file__\")\n"
      ],
      "execution_count": 4,
      "outputs": [
        {
          "output_type": "stream",
          "name": "stdout",
          "text": [
            "Automatically created module for IPython interactive environment\n",
            "Usage: ipykernel_launcher.py [options]\n",
            "\n",
            "Options:\n",
            "  -h, --help            show this help message and exit\n",
            "  --lsa=N_COMPONENTS    Preprocess documents with latent semantic analysis.\n",
            "  --no-minibatch        Use ordinary k-means algorithm (in batch mode).\n",
            "  --no-idf              Disable Inverse Document Frequency feature weighting.\n",
            "  --use-hashing         Use a hashing feature vectorizer\n",
            "  --n-features=N_FEATURES\n",
            "                        Maximum number of features (dimensions) to extract\n",
            "                        from text.\n",
            "  --verbose             Print progress reports inside k-means algorithm.\n",
            "\n"
          ]
        }
      ]
    },
    {
      "cell_type": "code",
      "metadata": {
        "id": "RwR7vFR9SLIA"
      },
      "source": [
        "# work-around for Jupyter notebook and IPython console\n",
        "argv = [] if is_interactive() else sys.argv[1:]\n",
        "(opts, args) = op.parse_args(argv)\n",
        "if len(args) > 0:\n",
        "    op.error(\"this script takes no arguments.\")\n",
        "    sys.exit(1)"
      ],
      "execution_count": 5,
      "outputs": []
    },
    {
      "cell_type": "code",
      "metadata": {
        "id": "9tUq2RdQSLKo"
      },
      "source": [
        "# #############################################################################\n",
        "# Load some categories from the training set\n",
        "categories = [\n",
        "    \"alt.atheism\",\n",
        "    \"talk.religion.misc\",\n",
        "    \"comp.graphics\",\n",
        "    \"sci.space\",\n",
        "]"
      ],
      "execution_count": 6,
      "outputs": []
    },
    {
      "cell_type": "code",
      "metadata": {
        "colab": {
          "base_uri": "https://localhost:8080/"
        },
        "id": "RMlrAjyfSaU4",
        "outputId": "89a33adb-621c-474b-d645-0d051aaf4266"
      },
      "source": [
        "# Uncomment the following to do the analysis on all the categories\n",
        "# categories = None\n",
        "\n",
        "print(\"Loading 20 newsgroups dataset for categories:\")\n",
        "print(categories)\n",
        "\n",
        "dataset = fetch_20newsgroups(\n",
        "    subset=\"all\", categories=categories, shuffle=True, random_state=42\n",
        ")"
      ],
      "execution_count": 7,
      "outputs": [
        {
          "output_type": "stream",
          "name": "stderr",
          "text": [
            "Downloading 20news dataset. This may take a few minutes.\n",
            "2021-11-12 17:55:35,439 INFO Downloading 20news dataset. This may take a few minutes.\n",
            "Downloading dataset from https://ndownloader.figshare.com/files/5975967 (14 MB)\n",
            "2021-11-12 17:55:35,447 INFO Downloading dataset from https://ndownloader.figshare.com/files/5975967 (14 MB)\n"
          ]
        },
        {
          "output_type": "stream",
          "name": "stdout",
          "text": [
            "Loading 20 newsgroups dataset for categories:\n",
            "['alt.atheism', 'talk.religion.misc', 'comp.graphics', 'sci.space']\n"
          ]
        }
      ]
    },
    {
      "cell_type": "code",
      "metadata": {
        "colab": {
          "base_uri": "https://localhost:8080/"
        },
        "id": "HBrtMJ-rSaX2",
        "outputId": "c2516c12-8f05-4bde-9cdc-b7c284161033"
      },
      "source": [
        "print(\"%d documents\" % len(dataset.data))\n",
        "print(\"%d categories\" % len(dataset.target_names))\n",
        "print()\n",
        "\n",
        "labels = dataset.target\n",
        "true_k = np.unique(labels).shape[0]"
      ],
      "execution_count": 8,
      "outputs": [
        {
          "output_type": "stream",
          "name": "stdout",
          "text": [
            "3387 documents\n",
            "4 categories\n",
            "\n"
          ]
        }
      ]
    },
    {
      "cell_type": "code",
      "metadata": {
        "colab": {
          "base_uri": "https://localhost:8080/"
        },
        "id": "WgYhcqPVSaa6",
        "outputId": "f164be64-92fe-4300-d501-8408935d416b"
      },
      "source": [
        "print(\"Extracting features from the training dataset using a sparse vectorizer\")\n",
        "t0 = time()\n",
        "if opts.use_hashing:\n",
        "    if opts.use_idf:\n",
        "        # Perform an IDF normalization on the output of HashingVectorizer\n",
        "        hasher = HashingVectorizer(\n",
        "            n_features=opts.n_features,\n",
        "            stop_words=\"english\",\n",
        "            alternate_sign=False,\n",
        "            norm=None,\n",
        "        )\n",
        "        vectorizer = make_pipeline(hasher, TfidfTransformer())\n",
        "    else:\n",
        "        vectorizer = HashingVectorizer(\n",
        "            n_features=opts.n_features,\n",
        "            stop_words=\"english\",\n",
        "            alternate_sign=False,\n",
        "            norm=\"l2\",\n",
        "        )\n",
        "else:\n",
        "    vectorizer = TfidfVectorizer(\n",
        "        max_df=0.5,\n",
        "        max_features=opts.n_features,\n",
        "        min_df=2,\n",
        "        stop_words=\"english\",\n",
        "        use_idf=opts.use_idf,\n",
        "    )\n",
        "X = vectorizer.fit_transform(dataset.data)\n",
        "\n",
        "print(\"done in %fs\" % (time() - t0))\n",
        "print(\"n_samples: %d, n_features: %d\" % X.shape)\n",
        "print()"
      ],
      "execution_count": 9,
      "outputs": [
        {
          "output_type": "stream",
          "name": "stdout",
          "text": [
            "Extracting features from the training dataset using a sparse vectorizer\n",
            "done in 0.903503s\n",
            "n_samples: 3387, n_features: 10000\n",
            "\n"
          ]
        }
      ]
    },
    {
      "cell_type": "code",
      "metadata": {
        "id": "_1Vow_hYSeys"
      },
      "source": [
        "if opts.n_components:\n",
        "    print(\"Performing dimensionality reduction using LSA\")\n",
        "    t0 = time()\n",
        "    # Vectorizer results are normalized, which makes KMeans behave as\n",
        "    # spherical k-means for better results. Since LSA/SVD results are\n",
        "    # not normalized, we have to redo the normalization.\n",
        "    svd = TruncatedSVD(opts.n_components)\n",
        "    normalizer = Normalizer(copy=False)\n",
        "    lsa = make_pipeline(svd, normalizer)\n",
        "\n",
        "    X = lsa.fit_transform(X)\n",
        "\n",
        "    print(\"done in %fs\" % (time() - t0))\n",
        "\n",
        "    explained_variance = svd.explained_variance_ratio_.sum()\n",
        "    print(\n",
        "        \"Explained variance of the SVD step: {}%\".format(int(explained_variance * 100))\n",
        "    )\n",
        "\n",
        "    print()"
      ],
      "execution_count": 10,
      "outputs": []
    }
  ]
}