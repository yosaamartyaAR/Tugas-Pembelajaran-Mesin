{
  "nbformat": 4,
  "nbformat_minor": 0,
  "metadata": {
    "colab": {
      "name": "Week1_Random_Tree",
      "provenance": [],
      "authorship_tag": "ABX9TyNl8gyjdhee8ZXHBOsi6KN6",
      "include_colab_link": true
    },
    "kernelspec": {
      "name": "python3",
      "display_name": "Python 3"
    },
    "language_info": {
      "name": "python"
    }
  },
  "cells": [
    {
      "cell_type": "markdown",
      "metadata": {
        "id": "view-in-github",
        "colab_type": "text"
      },
      "source": [
        "<a href=\"https://colab.research.google.com/github/yosaamartyaAR/Tugas-Pembelajaran-Mesin/blob/main/Week1_Random_Tree.ipynb\" target=\"_parent\"><img src=\"https://colab.research.google.com/assets/colab-badge.svg\" alt=\"Open In Colab\"/></a>"
      ]
    },
    {
      "cell_type": "code",
      "metadata": {
        "id": "beeHbnLAN7JG"
      },
      "source": [
        "import pandas as pd"
      ],
      "execution_count": 17,
      "outputs": []
    },
    {
      "cell_type": "code",
      "metadata": {
        "colab": {
          "base_uri": "https://localhost:8080/",
          "height": 315
        },
        "id": "2IczQ3r9OGfB",
        "outputId": "65e6881a-8e83-4a47-c73e-718cda0b9ab7"
      },
      "source": [
        "melbourne_data = pd.read_csv('/content/melb_data.csv')\n",
        "melbourne_data.describe()"
      ],
      "execution_count": 18,
      "outputs": [
        {
          "output_type": "execute_result",
          "data": {
            "text/html": [
              "<div>\n",
              "<style scoped>\n",
              "    .dataframe tbody tr th:only-of-type {\n",
              "        vertical-align: middle;\n",
              "    }\n",
              "\n",
              "    .dataframe tbody tr th {\n",
              "        vertical-align: top;\n",
              "    }\n",
              "\n",
              "    .dataframe thead th {\n",
              "        text-align: right;\n",
              "    }\n",
              "</style>\n",
              "<table border=\"1\" class=\"dataframe\">\n",
              "  <thead>\n",
              "    <tr style=\"text-align: right;\">\n",
              "      <th></th>\n",
              "      <th>Unnamed: 0</th>\n",
              "      <th>Rooms</th>\n",
              "      <th>Price</th>\n",
              "      <th>Distance</th>\n",
              "      <th>Postcode</th>\n",
              "      <th>Bedroom2</th>\n",
              "      <th>Bathroom</th>\n",
              "      <th>Car</th>\n",
              "      <th>Landsize</th>\n",
              "      <th>BuildingArea</th>\n",
              "      <th>YearBuilt</th>\n",
              "      <th>Lattitude</th>\n",
              "      <th>Longtitude</th>\n",
              "      <th>Propertycount</th>\n",
              "    </tr>\n",
              "  </thead>\n",
              "  <tbody>\n",
              "    <tr>\n",
              "      <th>count</th>\n",
              "      <td>18396.000000</td>\n",
              "      <td>18396.000000</td>\n",
              "      <td>1.839600e+04</td>\n",
              "      <td>18395.000000</td>\n",
              "      <td>18395.000000</td>\n",
              "      <td>14927.000000</td>\n",
              "      <td>14925.000000</td>\n",
              "      <td>14820.000000</td>\n",
              "      <td>13603.000000</td>\n",
              "      <td>7762.000000</td>\n",
              "      <td>8958.000000</td>\n",
              "      <td>15064.000000</td>\n",
              "      <td>15064.000000</td>\n",
              "      <td>18395.000000</td>\n",
              "    </tr>\n",
              "    <tr>\n",
              "      <th>mean</th>\n",
              "      <td>11826.787073</td>\n",
              "      <td>2.935040</td>\n",
              "      <td>1.056697e+06</td>\n",
              "      <td>10.389986</td>\n",
              "      <td>3107.140147</td>\n",
              "      <td>2.913043</td>\n",
              "      <td>1.538492</td>\n",
              "      <td>1.615520</td>\n",
              "      <td>558.116371</td>\n",
              "      <td>151.220219</td>\n",
              "      <td>1965.879996</td>\n",
              "      <td>-37.809849</td>\n",
              "      <td>144.996338</td>\n",
              "      <td>7517.975265</td>\n",
              "    </tr>\n",
              "    <tr>\n",
              "      <th>std</th>\n",
              "      <td>6800.710448</td>\n",
              "      <td>0.958202</td>\n",
              "      <td>6.419217e+05</td>\n",
              "      <td>6.009050</td>\n",
              "      <td>95.000995</td>\n",
              "      <td>0.964641</td>\n",
              "      <td>0.689311</td>\n",
              "      <td>0.955916</td>\n",
              "      <td>3987.326586</td>\n",
              "      <td>519.188596</td>\n",
              "      <td>37.013261</td>\n",
              "      <td>0.081152</td>\n",
              "      <td>0.106375</td>\n",
              "      <td>4488.416599</td>\n",
              "    </tr>\n",
              "    <tr>\n",
              "      <th>min</th>\n",
              "      <td>1.000000</td>\n",
              "      <td>1.000000</td>\n",
              "      <td>8.500000e+04</td>\n",
              "      <td>0.000000</td>\n",
              "      <td>3000.000000</td>\n",
              "      <td>0.000000</td>\n",
              "      <td>0.000000</td>\n",
              "      <td>0.000000</td>\n",
              "      <td>0.000000</td>\n",
              "      <td>0.000000</td>\n",
              "      <td>1196.000000</td>\n",
              "      <td>-38.182550</td>\n",
              "      <td>144.431810</td>\n",
              "      <td>249.000000</td>\n",
              "    </tr>\n",
              "    <tr>\n",
              "      <th>25%</th>\n",
              "      <td>5936.750000</td>\n",
              "      <td>2.000000</td>\n",
              "      <td>6.330000e+05</td>\n",
              "      <td>6.300000</td>\n",
              "      <td>3046.000000</td>\n",
              "      <td>2.000000</td>\n",
              "      <td>1.000000</td>\n",
              "      <td>1.000000</td>\n",
              "      <td>176.500000</td>\n",
              "      <td>93.000000</td>\n",
              "      <td>1950.000000</td>\n",
              "      <td>-37.858100</td>\n",
              "      <td>144.931193</td>\n",
              "      <td>4294.000000</td>\n",
              "    </tr>\n",
              "    <tr>\n",
              "      <th>50%</th>\n",
              "      <td>11820.500000</td>\n",
              "      <td>3.000000</td>\n",
              "      <td>8.800000e+05</td>\n",
              "      <td>9.700000</td>\n",
              "      <td>3085.000000</td>\n",
              "      <td>3.000000</td>\n",
              "      <td>1.000000</td>\n",
              "      <td>2.000000</td>\n",
              "      <td>440.000000</td>\n",
              "      <td>126.000000</td>\n",
              "      <td>1970.000000</td>\n",
              "      <td>-37.803625</td>\n",
              "      <td>145.000920</td>\n",
              "      <td>6567.000000</td>\n",
              "    </tr>\n",
              "    <tr>\n",
              "      <th>75%</th>\n",
              "      <td>17734.250000</td>\n",
              "      <td>3.000000</td>\n",
              "      <td>1.302000e+06</td>\n",
              "      <td>13.300000</td>\n",
              "      <td>3149.000000</td>\n",
              "      <td>3.000000</td>\n",
              "      <td>2.000000</td>\n",
              "      <td>2.000000</td>\n",
              "      <td>651.000000</td>\n",
              "      <td>174.000000</td>\n",
              "      <td>2000.000000</td>\n",
              "      <td>-37.756270</td>\n",
              "      <td>145.060000</td>\n",
              "      <td>10331.000000</td>\n",
              "    </tr>\n",
              "    <tr>\n",
              "      <th>max</th>\n",
              "      <td>23546.000000</td>\n",
              "      <td>12.000000</td>\n",
              "      <td>9.000000e+06</td>\n",
              "      <td>48.100000</td>\n",
              "      <td>3978.000000</td>\n",
              "      <td>20.000000</td>\n",
              "      <td>8.000000</td>\n",
              "      <td>10.000000</td>\n",
              "      <td>433014.000000</td>\n",
              "      <td>44515.000000</td>\n",
              "      <td>2018.000000</td>\n",
              "      <td>-37.408530</td>\n",
              "      <td>145.526350</td>\n",
              "      <td>21650.000000</td>\n",
              "    </tr>\n",
              "  </tbody>\n",
              "</table>\n",
              "</div>"
            ],
            "text/plain": [
              "         Unnamed: 0         Rooms  ...    Longtitude  Propertycount\n",
              "count  18396.000000  18396.000000  ...  15064.000000   18395.000000\n",
              "mean   11826.787073      2.935040  ...    144.996338    7517.975265\n",
              "std     6800.710448      0.958202  ...      0.106375    4488.416599\n",
              "min        1.000000      1.000000  ...    144.431810     249.000000\n",
              "25%     5936.750000      2.000000  ...    144.931193    4294.000000\n",
              "50%    11820.500000      3.000000  ...    145.000920    6567.000000\n",
              "75%    17734.250000      3.000000  ...    145.060000   10331.000000\n",
              "max    23546.000000     12.000000  ...    145.526350   21650.000000\n",
              "\n",
              "[8 rows x 14 columns]"
            ]
          },
          "metadata": {},
          "execution_count": 18
        }
      ]
    },
    {
      "cell_type": "code",
      "metadata": {
        "colab": {
          "base_uri": "https://localhost:8080/"
        },
        "id": "w9H6bMrHOGnY",
        "outputId": "afe6bb09-a5ff-4b88-c64f-68b319cda0f5"
      },
      "source": [
        "melbourne_data.columns"
      ],
      "execution_count": 19,
      "outputs": [
        {
          "output_type": "execute_result",
          "data": {
            "text/plain": [
              "Index(['Unnamed: 0', 'Suburb', 'Address', 'Rooms', 'Type', 'Price', 'Method',\n",
              "       'SellerG', 'Date', 'Distance', 'Postcode', 'Bedroom2', 'Bathroom',\n",
              "       'Car', 'Landsize', 'BuildingArea', 'YearBuilt', 'CouncilArea',\n",
              "       'Lattitude', 'Longtitude', 'Regionname', 'Propertycount'],\n",
              "      dtype='object')"
            ]
          },
          "metadata": {},
          "execution_count": 19
        }
      ]
    },
    {
      "cell_type": "code",
      "metadata": {
        "id": "gm6N7AFrOGtM"
      },
      "source": [
        "#dropna drops missing values (think of na as \"not available\")\n",
        "melbourne_data = melbourne_data.dropna(axis=0)"
      ],
      "execution_count": 20,
      "outputs": []
    },
    {
      "cell_type": "code",
      "metadata": {
        "colab": {
          "base_uri": "https://localhost:8080/"
        },
        "id": "0MHrqpKAOGwh",
        "outputId": "b771d7dc-58e5-4b08-9005-947dad6e6ecc"
      },
      "source": [
        "y = melbourne_data.Price\n",
        "y.describe()"
      ],
      "execution_count": 21,
      "outputs": [
        {
          "output_type": "execute_result",
          "data": {
            "text/plain": [
              "count    6.196000e+03\n",
              "mean     1.068828e+06\n",
              "std      6.751564e+05\n",
              "min      1.310000e+05\n",
              "25%      6.200000e+05\n",
              "50%      8.800000e+05\n",
              "75%      1.325000e+06\n",
              "max      9.000000e+06\n",
              "Name: Price, dtype: float64"
            ]
          },
          "metadata": {},
          "execution_count": 21
        }
      ]
    },
    {
      "cell_type": "code",
      "metadata": {
        "id": "wmRG0aa4OGzt"
      },
      "source": [
        "melbourne_features = ['Rooms', 'Bathroom','Landsize', 'Lattitude', 'Longtitude']"
      ],
      "execution_count": 22,
      "outputs": []
    },
    {
      "cell_type": "code",
      "metadata": {
        "colab": {
          "base_uri": "https://localhost:8080/",
          "height": 295
        },
        "id": "6qxy-53mOG2t",
        "outputId": "4594df27-5c7e-40f9-97e5-fd665b2b5423"
      },
      "source": [
        "x = melbourne_data[melbourne_features]\n",
        "x.describe()"
      ],
      "execution_count": 23,
      "outputs": [
        {
          "output_type": "execute_result",
          "data": {
            "text/html": [
              "<div>\n",
              "<style scoped>\n",
              "    .dataframe tbody tr th:only-of-type {\n",
              "        vertical-align: middle;\n",
              "    }\n",
              "\n",
              "    .dataframe tbody tr th {\n",
              "        vertical-align: top;\n",
              "    }\n",
              "\n",
              "    .dataframe thead th {\n",
              "        text-align: right;\n",
              "    }\n",
              "</style>\n",
              "<table border=\"1\" class=\"dataframe\">\n",
              "  <thead>\n",
              "    <tr style=\"text-align: right;\">\n",
              "      <th></th>\n",
              "      <th>Rooms</th>\n",
              "      <th>Bathroom</th>\n",
              "      <th>Landsize</th>\n",
              "      <th>Lattitude</th>\n",
              "      <th>Longtitude</th>\n",
              "    </tr>\n",
              "  </thead>\n",
              "  <tbody>\n",
              "    <tr>\n",
              "      <th>count</th>\n",
              "      <td>6196.000000</td>\n",
              "      <td>6196.000000</td>\n",
              "      <td>6196.000000</td>\n",
              "      <td>6196.000000</td>\n",
              "      <td>6196.000000</td>\n",
              "    </tr>\n",
              "    <tr>\n",
              "      <th>mean</th>\n",
              "      <td>2.931407</td>\n",
              "      <td>1.576340</td>\n",
              "      <td>471.006940</td>\n",
              "      <td>-37.807904</td>\n",
              "      <td>144.990201</td>\n",
              "    </tr>\n",
              "    <tr>\n",
              "      <th>std</th>\n",
              "      <td>0.971079</td>\n",
              "      <td>0.711362</td>\n",
              "      <td>897.449881</td>\n",
              "      <td>0.075850</td>\n",
              "      <td>0.099165</td>\n",
              "    </tr>\n",
              "    <tr>\n",
              "      <th>min</th>\n",
              "      <td>1.000000</td>\n",
              "      <td>1.000000</td>\n",
              "      <td>0.000000</td>\n",
              "      <td>-38.164920</td>\n",
              "      <td>144.542370</td>\n",
              "    </tr>\n",
              "    <tr>\n",
              "      <th>25%</th>\n",
              "      <td>2.000000</td>\n",
              "      <td>1.000000</td>\n",
              "      <td>152.000000</td>\n",
              "      <td>-37.855438</td>\n",
              "      <td>144.926198</td>\n",
              "    </tr>\n",
              "    <tr>\n",
              "      <th>50%</th>\n",
              "      <td>3.000000</td>\n",
              "      <td>1.000000</td>\n",
              "      <td>373.000000</td>\n",
              "      <td>-37.802250</td>\n",
              "      <td>144.995800</td>\n",
              "    </tr>\n",
              "    <tr>\n",
              "      <th>75%</th>\n",
              "      <td>4.000000</td>\n",
              "      <td>2.000000</td>\n",
              "      <td>628.000000</td>\n",
              "      <td>-37.758200</td>\n",
              "      <td>145.052700</td>\n",
              "    </tr>\n",
              "    <tr>\n",
              "      <th>max</th>\n",
              "      <td>8.000000</td>\n",
              "      <td>8.000000</td>\n",
              "      <td>37000.000000</td>\n",
              "      <td>-37.457090</td>\n",
              "      <td>145.526350</td>\n",
              "    </tr>\n",
              "  </tbody>\n",
              "</table>\n",
              "</div>"
            ],
            "text/plain": [
              "             Rooms     Bathroom      Landsize    Lattitude   Longtitude\n",
              "count  6196.000000  6196.000000   6196.000000  6196.000000  6196.000000\n",
              "mean      2.931407     1.576340    471.006940   -37.807904   144.990201\n",
              "std       0.971079     0.711362    897.449881     0.075850     0.099165\n",
              "min       1.000000     1.000000      0.000000   -38.164920   144.542370\n",
              "25%       2.000000     1.000000    152.000000   -37.855438   144.926198\n",
              "50%       3.000000     1.000000    373.000000   -37.802250   144.995800\n",
              "75%       4.000000     2.000000    628.000000   -37.758200   145.052700\n",
              "max       8.000000     8.000000  37000.000000   -37.457090   145.526350"
            ]
          },
          "metadata": {},
          "execution_count": 23
        }
      ]
    },
    {
      "cell_type": "code",
      "metadata": {
        "colab": {
          "base_uri": "https://localhost:8080/",
          "height": 203
        },
        "id": "xmuNowKSOG5V",
        "outputId": "4a7a4abd-a4ea-4034-ba18-0542a8afd2d0"
      },
      "source": [
        "x.head()"
      ],
      "execution_count": 24,
      "outputs": [
        {
          "output_type": "execute_result",
          "data": {
            "text/html": [
              "<div>\n",
              "<style scoped>\n",
              "    .dataframe tbody tr th:only-of-type {\n",
              "        vertical-align: middle;\n",
              "    }\n",
              "\n",
              "    .dataframe tbody tr th {\n",
              "        vertical-align: top;\n",
              "    }\n",
              "\n",
              "    .dataframe thead th {\n",
              "        text-align: right;\n",
              "    }\n",
              "</style>\n",
              "<table border=\"1\" class=\"dataframe\">\n",
              "  <thead>\n",
              "    <tr style=\"text-align: right;\">\n",
              "      <th></th>\n",
              "      <th>Rooms</th>\n",
              "      <th>Bathroom</th>\n",
              "      <th>Landsize</th>\n",
              "      <th>Lattitude</th>\n",
              "      <th>Longtitude</th>\n",
              "    </tr>\n",
              "  </thead>\n",
              "  <tbody>\n",
              "    <tr>\n",
              "      <th>1</th>\n",
              "      <td>2</td>\n",
              "      <td>1.0</td>\n",
              "      <td>156.0</td>\n",
              "      <td>-37.8079</td>\n",
              "      <td>144.9934</td>\n",
              "    </tr>\n",
              "    <tr>\n",
              "      <th>2</th>\n",
              "      <td>3</td>\n",
              "      <td>2.0</td>\n",
              "      <td>134.0</td>\n",
              "      <td>-37.8093</td>\n",
              "      <td>144.9944</td>\n",
              "    </tr>\n",
              "    <tr>\n",
              "      <th>4</th>\n",
              "      <td>4</td>\n",
              "      <td>1.0</td>\n",
              "      <td>120.0</td>\n",
              "      <td>-37.8072</td>\n",
              "      <td>144.9941</td>\n",
              "    </tr>\n",
              "    <tr>\n",
              "      <th>6</th>\n",
              "      <td>3</td>\n",
              "      <td>2.0</td>\n",
              "      <td>245.0</td>\n",
              "      <td>-37.8024</td>\n",
              "      <td>144.9993</td>\n",
              "    </tr>\n",
              "    <tr>\n",
              "      <th>7</th>\n",
              "      <td>2</td>\n",
              "      <td>1.0</td>\n",
              "      <td>256.0</td>\n",
              "      <td>-37.8060</td>\n",
              "      <td>144.9954</td>\n",
              "    </tr>\n",
              "  </tbody>\n",
              "</table>\n",
              "</div>"
            ],
            "text/plain": [
              "   Rooms  Bathroom  Landsize  Lattitude  Longtitude\n",
              "1      2       1.0     156.0   -37.8079    144.9934\n",
              "2      3       2.0     134.0   -37.8093    144.9944\n",
              "4      4       1.0     120.0   -37.8072    144.9941\n",
              "6      3       2.0     245.0   -37.8024    144.9993\n",
              "7      2       1.0     256.0   -37.8060    144.9954"
            ]
          },
          "metadata": {},
          "execution_count": 24
        }
      ]
    },
    {
      "cell_type": "code",
      "metadata": {
        "colab": {
          "base_uri": "https://localhost:8080/",
          "height": 203
        },
        "id": "vlWbwyKjOG8B",
        "outputId": "ae6b933a-07b9-4fc6-ef02-418f78226edc"
      },
      "source": [
        "x.tail()"
      ],
      "execution_count": 25,
      "outputs": [
        {
          "output_type": "execute_result",
          "data": {
            "text/html": [
              "<div>\n",
              "<style scoped>\n",
              "    .dataframe tbody tr th:only-of-type {\n",
              "        vertical-align: middle;\n",
              "    }\n",
              "\n",
              "    .dataframe tbody tr th {\n",
              "        vertical-align: top;\n",
              "    }\n",
              "\n",
              "    .dataframe thead th {\n",
              "        text-align: right;\n",
              "    }\n",
              "</style>\n",
              "<table border=\"1\" class=\"dataframe\">\n",
              "  <thead>\n",
              "    <tr style=\"text-align: right;\">\n",
              "      <th></th>\n",
              "      <th>Rooms</th>\n",
              "      <th>Bathroom</th>\n",
              "      <th>Landsize</th>\n",
              "      <th>Lattitude</th>\n",
              "      <th>Longtitude</th>\n",
              "    </tr>\n",
              "  </thead>\n",
              "  <tbody>\n",
              "    <tr>\n",
              "      <th>15388</th>\n",
              "      <td>3</td>\n",
              "      <td>2.0</td>\n",
              "      <td>972.0</td>\n",
              "      <td>-37.51232</td>\n",
              "      <td>145.13282</td>\n",
              "    </tr>\n",
              "    <tr>\n",
              "      <th>15389</th>\n",
              "      <td>3</td>\n",
              "      <td>1.0</td>\n",
              "      <td>179.0</td>\n",
              "      <td>-37.86558</td>\n",
              "      <td>144.90474</td>\n",
              "    </tr>\n",
              "    <tr>\n",
              "      <th>15390</th>\n",
              "      <td>1</td>\n",
              "      <td>1.0</td>\n",
              "      <td>0.0</td>\n",
              "      <td>-37.85588</td>\n",
              "      <td>144.89936</td>\n",
              "    </tr>\n",
              "    <tr>\n",
              "      <th>15392</th>\n",
              "      <td>2</td>\n",
              "      <td>1.0</td>\n",
              "      <td>0.0</td>\n",
              "      <td>-37.85581</td>\n",
              "      <td>144.99025</td>\n",
              "    </tr>\n",
              "    <tr>\n",
              "      <th>15395</th>\n",
              "      <td>6</td>\n",
              "      <td>3.0</td>\n",
              "      <td>1087.0</td>\n",
              "      <td>-37.81038</td>\n",
              "      <td>144.89389</td>\n",
              "    </tr>\n",
              "  </tbody>\n",
              "</table>\n",
              "</div>"
            ],
            "text/plain": [
              "       Rooms  Bathroom  Landsize  Lattitude  Longtitude\n",
              "15388      3       2.0     972.0  -37.51232   145.13282\n",
              "15389      3       1.0     179.0  -37.86558   144.90474\n",
              "15390      1       1.0       0.0  -37.85588   144.89936\n",
              "15392      2       1.0       0.0  -37.85581   144.99025\n",
              "15395      6       3.0    1087.0  -37.81038   144.89389"
            ]
          },
          "metadata": {},
          "execution_count": 25
        }
      ]
    },
    {
      "cell_type": "code",
      "metadata": {
        "id": "sNjKdwB6OG-2"
      },
      "source": [
        "from sklearn.tree import DecisionTreeRegressor\n",
        "#Define model. Specify a number from random_state to ensure same results each run\n",
        "melbourne_model = DecisionTreeRegressor(random_state = 1)"
      ],
      "execution_count": 26,
      "outputs": []
    },
    {
      "cell_type": "code",
      "metadata": {
        "colab": {
          "base_uri": "https://localhost:8080/"
        },
        "id": "a0RpZ7-iOHBd",
        "outputId": "cef748eb-7aad-41f8-f793-4d59917aea19"
      },
      "source": [
        "#Fit Model\n",
        "melbourne_model.fit(x, y)"
      ],
      "execution_count": 27,
      "outputs": [
        {
          "output_type": "execute_result",
          "data": {
            "text/plain": [
              "DecisionTreeRegressor(ccp_alpha=0.0, criterion='mse', max_depth=None,\n",
              "                      max_features=None, max_leaf_nodes=None,\n",
              "                      min_impurity_decrease=0.0, min_impurity_split=None,\n",
              "                      min_samples_leaf=1, min_samples_split=2,\n",
              "                      min_weight_fraction_leaf=0.0, presort='deprecated',\n",
              "                      random_state=1, splitter='best')"
            ]
          },
          "metadata": {},
          "execution_count": 27
        }
      ]
    },
    {
      "cell_type": "code",
      "metadata": {
        "colab": {
          "base_uri": "https://localhost:8080/"
        },
        "id": "ygq-pd5yOHEh",
        "outputId": "e83e05ce-cf90-4189-8197-81e6dd734e06"
      },
      "source": [
        "#Test the result on training data\n",
        "print(\"making predictions for the following 5 houses:\\n\")\n",
        "print(x.head())\n",
        "print(\"\\nthe predictions are:\\n\")\n",
        "print(melbourne_model.predict(x.head()))"
      ],
      "execution_count": 28,
      "outputs": [
        {
          "output_type": "stream",
          "name": "stdout",
          "text": [
            "making predictions for the following 5 houses:\n",
            "\n",
            "   Rooms  Bathroom  Landsize  Lattitude  Longtitude\n",
            "1      2       1.0     156.0   -37.8079    144.9934\n",
            "2      3       2.0     134.0   -37.8093    144.9944\n",
            "4      4       1.0     120.0   -37.8072    144.9941\n",
            "6      3       2.0     245.0   -37.8024    144.9993\n",
            "7      2       1.0     256.0   -37.8060    144.9954\n",
            "\n",
            "the predictions are:\n",
            "\n",
            "[1035000. 1465000. 1600000. 1876000. 1636000.]\n"
          ]
        }
      ]
    },
    {
      "cell_type": "code",
      "metadata": {
        "colab": {
          "base_uri": "https://localhost:8080/"
        },
        "id": "O7ueyk65PEAs",
        "outputId": "e69601fa-edeb-474f-f428-d3e2debc0a61"
      },
      "source": [
        "#calculate the mean absolute error MSE:\n",
        "from sklearn.metrics import mean_absolute_error\n",
        "predicted_home_prices = melbourne_model.predict(x)\n",
        "mean_absolute_error(y, predicted_home_prices)"
      ],
      "execution_count": 29,
      "outputs": [
        {
          "output_type": "execute_result",
          "data": {
            "text/plain": [
              "1115.7467183128902"
            ]
          },
          "metadata": {},
          "execution_count": 29
        }
      ]
    },
    {
      "cell_type": "code",
      "metadata": {
        "id": "RrmtpVBUOX_r"
      },
      "source": [
        "#use some data as training data to fit the model\n",
        "#use the other data as validation to calculate mean_absolute_error\n",
        "from sklearn.model_selection import train_test_split\n",
        "#split data into training and validation data, for both features and target\n",
        "#the split is based on random number generator. Supplying a numeric value to\n",
        "#the random state argument guarantees we get the same split everytime we run this script\n",
        "train_x, val_x, train_y, val_y = train_test_split(x, y, random_state=0)"
      ],
      "execution_count": 30,
      "outputs": []
    },
    {
      "cell_type": "code",
      "metadata": {
        "colab": {
          "base_uri": "https://localhost:8080/"
        },
        "id": "s5zRkE2mOZ5U",
        "outputId": "d74f52b2-ce82-4782-e731-3177365f8272"
      },
      "source": [
        "#define model\n",
        "melbourne_model = DecisionTreeRegressor()\n",
        "#fit model\n",
        "melbourne_model.fit(train_x, train_y)"
      ],
      "execution_count": 31,
      "outputs": [
        {
          "output_type": "execute_result",
          "data": {
            "text/plain": [
              "DecisionTreeRegressor(ccp_alpha=0.0, criterion='mse', max_depth=None,\n",
              "                      max_features=None, max_leaf_nodes=None,\n",
              "                      min_impurity_decrease=0.0, min_impurity_split=None,\n",
              "                      min_samples_leaf=1, min_samples_split=2,\n",
              "                      min_weight_fraction_leaf=0.0, presort='deprecated',\n",
              "                      random_state=None, splitter='best')"
            ]
          },
          "metadata": {},
          "execution_count": 31
        }
      ]
    },
    {
      "cell_type": "code",
      "metadata": {
        "colab": {
          "base_uri": "https://localhost:8080/"
        },
        "id": "PjMFKygkOZ7x",
        "outputId": "87d66bbb-6bbd-471b-9101-60f02febd73d"
      },
      "source": [
        "#get predicted prices on validation data\n",
        "val_predictions =melbourne_model.predict(val_x)\n",
        "print(mean_absolute_error(val_y, val_predictions))"
      ],
      "execution_count": 32,
      "outputs": [
        {
          "output_type": "stream",
          "name": "stdout",
          "text": [
            "273024.6281471917\n"
          ]
        }
      ]
    },
    {
      "cell_type": "code",
      "metadata": {
        "id": "9BJ1wjglOZ-2"
      },
      "source": [
        "#use utility function to help compare MAE scores from different values for max_leaf_nodes\n",
        "from sklearn.metrics import mean_absolute_error\n",
        "from sklearn.tree import DecisionTreeRegressor\n",
        "\n",
        "def get_mae(max_leaf_nodes, train_x, val_x, train_y, val_y):\n",
        "  model = DecisionTreeRegressor(max_leaf_nodes=max_leaf_nodes,random_state=0)\n",
        "  model.fit(train_x, train_y)\n",
        "  preds_val = model.predict(val_x)\n",
        "  mae = mean_absolute_error(val_y, preds_val)\n",
        "  return(mae)"
      ],
      "execution_count": 33,
      "outputs": []
    },
    {
      "cell_type": "code",
      "metadata": {
        "colab": {
          "base_uri": "https://localhost:8080/"
        },
        "id": "Gb3nXLPOOaBQ",
        "outputId": "22843be8-348d-4a9b-ef50-2ef9543cc8e1"
      },
      "source": [
        "#compare MAE with different values of max_lead_nodes\n",
        "for max_leaf_nodes in [5, 50, 500, 5000]:\n",
        "  my_mae = get_mae(max_leaf_nodes, train_x, val_x, train_y, val_y)\n",
        "  print(\"Max leaf nodes : %d \\t\\t Mean Absolute Error: %d\" %(max_leaf_nodes, my_mae))"
      ],
      "execution_count": 34,
      "outputs": [
        {
          "output_type": "stream",
          "name": "stdout",
          "text": [
            "Max leaf nodes : 5 \t\t Mean Absolute Error: 385696\n",
            "Max leaf nodes : 50 \t\t Mean Absolute Error: 279794\n",
            "Max leaf nodes : 500 \t\t Mean Absolute Error: 261718\n",
            "Max leaf nodes : 5000 \t\t Mean Absolute Error: 271996\n"
          ]
        }
      ]
    }
  ]
}